{
  "nbformat": 4,
  "nbformat_minor": 0,
  "metadata": {
    "colab": {
      "name": "digitsMNIST.ipynb",
      "provenance": [],
      "toc_visible": true
    },
    "kernelspec": {
      "name": "python3",
      "display_name": "Python 3"
    },
    "accelerator": "GPU",
    "widgets": {
      "application/vnd.jupyter.widget-state+json": {
        "6d566e0aa03240d189c63ef26264b45f": {
          "model_module": "@jupyter-widgets/controls",
          "model_name": "HBoxModel",
          "state": {
            "_view_name": "HBoxView",
            "_dom_classes": [],
            "_model_name": "HBoxModel",
            "_view_module": "@jupyter-widgets/controls",
            "_model_module_version": "1.5.0",
            "_view_count": null,
            "_view_module_version": "1.5.0",
            "box_style": "",
            "layout": "IPY_MODEL_e8d0fda9268c4f4e9517da801b067b3a",
            "_model_module": "@jupyter-widgets/controls",
            "children": [
              "IPY_MODEL_8b354eebc38f4c2686cd8c2cf0f14a7e",
              "IPY_MODEL_6804adc077bd45eb9f725d50da8d349d"
            ]
          }
        },
        "e8d0fda9268c4f4e9517da801b067b3a": {
          "model_module": "@jupyter-widgets/base",
          "model_name": "LayoutModel",
          "state": {
            "_view_name": "LayoutView",
            "grid_template_rows": null,
            "right": null,
            "justify_content": null,
            "_view_module": "@jupyter-widgets/base",
            "overflow": null,
            "_model_module_version": "1.2.0",
            "_view_count": null,
            "flex_flow": null,
            "width": null,
            "min_width": null,
            "border": null,
            "align_items": null,
            "bottom": null,
            "_model_module": "@jupyter-widgets/base",
            "top": null,
            "grid_column": null,
            "overflow_y": null,
            "overflow_x": null,
            "grid_auto_flow": null,
            "grid_area": null,
            "grid_template_columns": null,
            "flex": null,
            "_model_name": "LayoutModel",
            "justify_items": null,
            "grid_row": null,
            "max_height": null,
            "align_content": null,
            "visibility": null,
            "align_self": null,
            "height": null,
            "min_height": null,
            "padding": null,
            "grid_auto_rows": null,
            "grid_gap": null,
            "max_width": null,
            "order": null,
            "_view_module_version": "1.2.0",
            "grid_template_areas": null,
            "object_position": null,
            "object_fit": null,
            "grid_auto_columns": null,
            "margin": null,
            "display": null,
            "left": null
          }
        },
        "8b354eebc38f4c2686cd8c2cf0f14a7e": {
          "model_module": "@jupyter-widgets/controls",
          "model_name": "FloatProgressModel",
          "state": {
            "_view_name": "ProgressView",
            "style": "IPY_MODEL_758bebbba8414cff90ab9366632d6da2",
            "_dom_classes": [],
            "description": "",
            "_model_name": "FloatProgressModel",
            "bar_style": "info",
            "max": 1,
            "_view_module": "@jupyter-widgets/controls",
            "_model_module_version": "1.5.0",
            "value": 1,
            "_view_count": null,
            "_view_module_version": "1.5.0",
            "orientation": "horizontal",
            "min": 0,
            "description_tooltip": null,
            "_model_module": "@jupyter-widgets/controls",
            "layout": "IPY_MODEL_54ea2018f84a48429f46d63a73301e49"
          }
        },
        "6804adc077bd45eb9f725d50da8d349d": {
          "model_module": "@jupyter-widgets/controls",
          "model_name": "HTMLModel",
          "state": {
            "_view_name": "HTMLView",
            "style": "IPY_MODEL_627b3203ecb84b08a744dc91e1acce2b",
            "_dom_classes": [],
            "description": "",
            "_model_name": "HTMLModel",
            "placeholder": "​",
            "_view_module": "@jupyter-widgets/controls",
            "_model_module_version": "1.5.0",
            "value": " 9920512/? [00:20&lt;00:00, 703321.34it/s]",
            "_view_count": null,
            "_view_module_version": "1.5.0",
            "description_tooltip": null,
            "_model_module": "@jupyter-widgets/controls",
            "layout": "IPY_MODEL_8303232f317a4cdcb7dc7b5ab1721475"
          }
        },
        "758bebbba8414cff90ab9366632d6da2": {
          "model_module": "@jupyter-widgets/controls",
          "model_name": "ProgressStyleModel",
          "state": {
            "_view_name": "StyleView",
            "_model_name": "ProgressStyleModel",
            "description_width": "initial",
            "_view_module": "@jupyter-widgets/base",
            "_model_module_version": "1.5.0",
            "_view_count": null,
            "_view_module_version": "1.2.0",
            "bar_color": null,
            "_model_module": "@jupyter-widgets/controls"
          }
        },
        "54ea2018f84a48429f46d63a73301e49": {
          "model_module": "@jupyter-widgets/base",
          "model_name": "LayoutModel",
          "state": {
            "_view_name": "LayoutView",
            "grid_template_rows": null,
            "right": null,
            "justify_content": null,
            "_view_module": "@jupyter-widgets/base",
            "overflow": null,
            "_model_module_version": "1.2.0",
            "_view_count": null,
            "flex_flow": null,
            "width": null,
            "min_width": null,
            "border": null,
            "align_items": null,
            "bottom": null,
            "_model_module": "@jupyter-widgets/base",
            "top": null,
            "grid_column": null,
            "overflow_y": null,
            "overflow_x": null,
            "grid_auto_flow": null,
            "grid_area": null,
            "grid_template_columns": null,
            "flex": null,
            "_model_name": "LayoutModel",
            "justify_items": null,
            "grid_row": null,
            "max_height": null,
            "align_content": null,
            "visibility": null,
            "align_self": null,
            "height": null,
            "min_height": null,
            "padding": null,
            "grid_auto_rows": null,
            "grid_gap": null,
            "max_width": null,
            "order": null,
            "_view_module_version": "1.2.0",
            "grid_template_areas": null,
            "object_position": null,
            "object_fit": null,
            "grid_auto_columns": null,
            "margin": null,
            "display": null,
            "left": null
          }
        },
        "627b3203ecb84b08a744dc91e1acce2b": {
          "model_module": "@jupyter-widgets/controls",
          "model_name": "DescriptionStyleModel",
          "state": {
            "_view_name": "StyleView",
            "_model_name": "DescriptionStyleModel",
            "description_width": "",
            "_view_module": "@jupyter-widgets/base",
            "_model_module_version": "1.5.0",
            "_view_count": null,
            "_view_module_version": "1.2.0",
            "_model_module": "@jupyter-widgets/controls"
          }
        },
        "8303232f317a4cdcb7dc7b5ab1721475": {
          "model_module": "@jupyter-widgets/base",
          "model_name": "LayoutModel",
          "state": {
            "_view_name": "LayoutView",
            "grid_template_rows": null,
            "right": null,
            "justify_content": null,
            "_view_module": "@jupyter-widgets/base",
            "overflow": null,
            "_model_module_version": "1.2.0",
            "_view_count": null,
            "flex_flow": null,
            "width": null,
            "min_width": null,
            "border": null,
            "align_items": null,
            "bottom": null,
            "_model_module": "@jupyter-widgets/base",
            "top": null,
            "grid_column": null,
            "overflow_y": null,
            "overflow_x": null,
            "grid_auto_flow": null,
            "grid_area": null,
            "grid_template_columns": null,
            "flex": null,
            "_model_name": "LayoutModel",
            "justify_items": null,
            "grid_row": null,
            "max_height": null,
            "align_content": null,
            "visibility": null,
            "align_self": null,
            "height": null,
            "min_height": null,
            "padding": null,
            "grid_auto_rows": null,
            "grid_gap": null,
            "max_width": null,
            "order": null,
            "_view_module_version": "1.2.0",
            "grid_template_areas": null,
            "object_position": null,
            "object_fit": null,
            "grid_auto_columns": null,
            "margin": null,
            "display": null,
            "left": null
          }
        },
        "c4960593bc3a4718831ae63289ae0dad": {
          "model_module": "@jupyter-widgets/controls",
          "model_name": "HBoxModel",
          "state": {
            "_view_name": "HBoxView",
            "_dom_classes": [],
            "_model_name": "HBoxModel",
            "_view_module": "@jupyter-widgets/controls",
            "_model_module_version": "1.5.0",
            "_view_count": null,
            "_view_module_version": "1.5.0",
            "box_style": "",
            "layout": "IPY_MODEL_4b273728d56540bc96c460126daaf0ff",
            "_model_module": "@jupyter-widgets/controls",
            "children": [
              "IPY_MODEL_344b28a1e16d4d80ab94d838860cc343",
              "IPY_MODEL_7c3f83f98c4142fba4d604bb81d1333c"
            ]
          }
        },
        "4b273728d56540bc96c460126daaf0ff": {
          "model_module": "@jupyter-widgets/base",
          "model_name": "LayoutModel",
          "state": {
            "_view_name": "LayoutView",
            "grid_template_rows": null,
            "right": null,
            "justify_content": null,
            "_view_module": "@jupyter-widgets/base",
            "overflow": null,
            "_model_module_version": "1.2.0",
            "_view_count": null,
            "flex_flow": null,
            "width": null,
            "min_width": null,
            "border": null,
            "align_items": null,
            "bottom": null,
            "_model_module": "@jupyter-widgets/base",
            "top": null,
            "grid_column": null,
            "overflow_y": null,
            "overflow_x": null,
            "grid_auto_flow": null,
            "grid_area": null,
            "grid_template_columns": null,
            "flex": null,
            "_model_name": "LayoutModel",
            "justify_items": null,
            "grid_row": null,
            "max_height": null,
            "align_content": null,
            "visibility": null,
            "align_self": null,
            "height": null,
            "min_height": null,
            "padding": null,
            "grid_auto_rows": null,
            "grid_gap": null,
            "max_width": null,
            "order": null,
            "_view_module_version": "1.2.0",
            "grid_template_areas": null,
            "object_position": null,
            "object_fit": null,
            "grid_auto_columns": null,
            "margin": null,
            "display": null,
            "left": null
          }
        },
        "344b28a1e16d4d80ab94d838860cc343": {
          "model_module": "@jupyter-widgets/controls",
          "model_name": "FloatProgressModel",
          "state": {
            "_view_name": "ProgressView",
            "style": "IPY_MODEL_f79569a33bf9456e8290016b2dfa2890",
            "_dom_classes": [],
            "description": "",
            "_model_name": "FloatProgressModel",
            "bar_style": "success",
            "max": 1,
            "_view_module": "@jupyter-widgets/controls",
            "_model_module_version": "1.5.0",
            "value": 1,
            "_view_count": null,
            "_view_module_version": "1.5.0",
            "orientation": "horizontal",
            "min": 0,
            "description_tooltip": null,
            "_model_module": "@jupyter-widgets/controls",
            "layout": "IPY_MODEL_31c45636e9f14b16b8388584d27ec96d"
          }
        },
        "7c3f83f98c4142fba4d604bb81d1333c": {
          "model_module": "@jupyter-widgets/controls",
          "model_name": "HTMLModel",
          "state": {
            "_view_name": "HTMLView",
            "style": "IPY_MODEL_903e44e3a3104626895bf0548da341b3",
            "_dom_classes": [],
            "description": "",
            "_model_name": "HTMLModel",
            "placeholder": "​",
            "_view_module": "@jupyter-widgets/controls",
            "_model_module_version": "1.5.0",
            "value": " 32768/? [00:00&lt;00:00, 95404.56it/s]",
            "_view_count": null,
            "_view_module_version": "1.5.0",
            "description_tooltip": null,
            "_model_module": "@jupyter-widgets/controls",
            "layout": "IPY_MODEL_030f1e0fc24d49449eb5bf51df872fb8"
          }
        },
        "f79569a33bf9456e8290016b2dfa2890": {
          "model_module": "@jupyter-widgets/controls",
          "model_name": "ProgressStyleModel",
          "state": {
            "_view_name": "StyleView",
            "_model_name": "ProgressStyleModel",
            "description_width": "initial",
            "_view_module": "@jupyter-widgets/base",
            "_model_module_version": "1.5.0",
            "_view_count": null,
            "_view_module_version": "1.2.0",
            "bar_color": null,
            "_model_module": "@jupyter-widgets/controls"
          }
        },
        "31c45636e9f14b16b8388584d27ec96d": {
          "model_module": "@jupyter-widgets/base",
          "model_name": "LayoutModel",
          "state": {
            "_view_name": "LayoutView",
            "grid_template_rows": null,
            "right": null,
            "justify_content": null,
            "_view_module": "@jupyter-widgets/base",
            "overflow": null,
            "_model_module_version": "1.2.0",
            "_view_count": null,
            "flex_flow": null,
            "width": null,
            "min_width": null,
            "border": null,
            "align_items": null,
            "bottom": null,
            "_model_module": "@jupyter-widgets/base",
            "top": null,
            "grid_column": null,
            "overflow_y": null,
            "overflow_x": null,
            "grid_auto_flow": null,
            "grid_area": null,
            "grid_template_columns": null,
            "flex": null,
            "_model_name": "LayoutModel",
            "justify_items": null,
            "grid_row": null,
            "max_height": null,
            "align_content": null,
            "visibility": null,
            "align_self": null,
            "height": null,
            "min_height": null,
            "padding": null,
            "grid_auto_rows": null,
            "grid_gap": null,
            "max_width": null,
            "order": null,
            "_view_module_version": "1.2.0",
            "grid_template_areas": null,
            "object_position": null,
            "object_fit": null,
            "grid_auto_columns": null,
            "margin": null,
            "display": null,
            "left": null
          }
        },
        "903e44e3a3104626895bf0548da341b3": {
          "model_module": "@jupyter-widgets/controls",
          "model_name": "DescriptionStyleModel",
          "state": {
            "_view_name": "StyleView",
            "_model_name": "DescriptionStyleModel",
            "description_width": "",
            "_view_module": "@jupyter-widgets/base",
            "_model_module_version": "1.5.0",
            "_view_count": null,
            "_view_module_version": "1.2.0",
            "_model_module": "@jupyter-widgets/controls"
          }
        },
        "030f1e0fc24d49449eb5bf51df872fb8": {
          "model_module": "@jupyter-widgets/base",
          "model_name": "LayoutModel",
          "state": {
            "_view_name": "LayoutView",
            "grid_template_rows": null,
            "right": null,
            "justify_content": null,
            "_view_module": "@jupyter-widgets/base",
            "overflow": null,
            "_model_module_version": "1.2.0",
            "_view_count": null,
            "flex_flow": null,
            "width": null,
            "min_width": null,
            "border": null,
            "align_items": null,
            "bottom": null,
            "_model_module": "@jupyter-widgets/base",
            "top": null,
            "grid_column": null,
            "overflow_y": null,
            "overflow_x": null,
            "grid_auto_flow": null,
            "grid_area": null,
            "grid_template_columns": null,
            "flex": null,
            "_model_name": "LayoutModel",
            "justify_items": null,
            "grid_row": null,
            "max_height": null,
            "align_content": null,
            "visibility": null,
            "align_self": null,
            "height": null,
            "min_height": null,
            "padding": null,
            "grid_auto_rows": null,
            "grid_gap": null,
            "max_width": null,
            "order": null,
            "_view_module_version": "1.2.0",
            "grid_template_areas": null,
            "object_position": null,
            "object_fit": null,
            "grid_auto_columns": null,
            "margin": null,
            "display": null,
            "left": null
          }
        },
        "1b94348460ee46618d837622772e0fcf": {
          "model_module": "@jupyter-widgets/controls",
          "model_name": "HBoxModel",
          "state": {
            "_view_name": "HBoxView",
            "_dom_classes": [],
            "_model_name": "HBoxModel",
            "_view_module": "@jupyter-widgets/controls",
            "_model_module_version": "1.5.0",
            "_view_count": null,
            "_view_module_version": "1.5.0",
            "box_style": "",
            "layout": "IPY_MODEL_ab8229c1f34042cc902249a94640a0db",
            "_model_module": "@jupyter-widgets/controls",
            "children": [
              "IPY_MODEL_0418a65f0b844af190e5bbe9d9c25ab8",
              "IPY_MODEL_3e32e78d936f4d31b9df897e1bf973be"
            ]
          }
        },
        "ab8229c1f34042cc902249a94640a0db": {
          "model_module": "@jupyter-widgets/base",
          "model_name": "LayoutModel",
          "state": {
            "_view_name": "LayoutView",
            "grid_template_rows": null,
            "right": null,
            "justify_content": null,
            "_view_module": "@jupyter-widgets/base",
            "overflow": null,
            "_model_module_version": "1.2.0",
            "_view_count": null,
            "flex_flow": null,
            "width": null,
            "min_width": null,
            "border": null,
            "align_items": null,
            "bottom": null,
            "_model_module": "@jupyter-widgets/base",
            "top": null,
            "grid_column": null,
            "overflow_y": null,
            "overflow_x": null,
            "grid_auto_flow": null,
            "grid_area": null,
            "grid_template_columns": null,
            "flex": null,
            "_model_name": "LayoutModel",
            "justify_items": null,
            "grid_row": null,
            "max_height": null,
            "align_content": null,
            "visibility": null,
            "align_self": null,
            "height": null,
            "min_height": null,
            "padding": null,
            "grid_auto_rows": null,
            "grid_gap": null,
            "max_width": null,
            "order": null,
            "_view_module_version": "1.2.0",
            "grid_template_areas": null,
            "object_position": null,
            "object_fit": null,
            "grid_auto_columns": null,
            "margin": null,
            "display": null,
            "left": null
          }
        },
        "0418a65f0b844af190e5bbe9d9c25ab8": {
          "model_module": "@jupyter-widgets/controls",
          "model_name": "FloatProgressModel",
          "state": {
            "_view_name": "ProgressView",
            "style": "IPY_MODEL_c8682eea707b4051bfaf8adcda9bd28d",
            "_dom_classes": [],
            "description": "",
            "_model_name": "FloatProgressModel",
            "bar_style": "success",
            "max": 1,
            "_view_module": "@jupyter-widgets/controls",
            "_model_module_version": "1.5.0",
            "value": 1,
            "_view_count": null,
            "_view_module_version": "1.5.0",
            "orientation": "horizontal",
            "min": 0,
            "description_tooltip": null,
            "_model_module": "@jupyter-widgets/controls",
            "layout": "IPY_MODEL_670ed79c556f42b1b27c077cf5b62b3b"
          }
        },
        "3e32e78d936f4d31b9df897e1bf973be": {
          "model_module": "@jupyter-widgets/controls",
          "model_name": "HTMLModel",
          "state": {
            "_view_name": "HTMLView",
            "style": "IPY_MODEL_ffcd71679d9a4a3baf9253cf5bbc3709",
            "_dom_classes": [],
            "description": "",
            "_model_name": "HTMLModel",
            "placeholder": "​",
            "_view_module": "@jupyter-widgets/controls",
            "_model_module_version": "1.5.0",
            "value": " 1654784/? [00:01&lt;00:00, 1061314.72it/s]",
            "_view_count": null,
            "_view_module_version": "1.5.0",
            "description_tooltip": null,
            "_model_module": "@jupyter-widgets/controls",
            "layout": "IPY_MODEL_a3d57ad947be4f6cb37451933d1db8a3"
          }
        },
        "c8682eea707b4051bfaf8adcda9bd28d": {
          "model_module": "@jupyter-widgets/controls",
          "model_name": "ProgressStyleModel",
          "state": {
            "_view_name": "StyleView",
            "_model_name": "ProgressStyleModel",
            "description_width": "initial",
            "_view_module": "@jupyter-widgets/base",
            "_model_module_version": "1.5.0",
            "_view_count": null,
            "_view_module_version": "1.2.0",
            "bar_color": null,
            "_model_module": "@jupyter-widgets/controls"
          }
        },
        "670ed79c556f42b1b27c077cf5b62b3b": {
          "model_module": "@jupyter-widgets/base",
          "model_name": "LayoutModel",
          "state": {
            "_view_name": "LayoutView",
            "grid_template_rows": null,
            "right": null,
            "justify_content": null,
            "_view_module": "@jupyter-widgets/base",
            "overflow": null,
            "_model_module_version": "1.2.0",
            "_view_count": null,
            "flex_flow": null,
            "width": null,
            "min_width": null,
            "border": null,
            "align_items": null,
            "bottom": null,
            "_model_module": "@jupyter-widgets/base",
            "top": null,
            "grid_column": null,
            "overflow_y": null,
            "overflow_x": null,
            "grid_auto_flow": null,
            "grid_area": null,
            "grid_template_columns": null,
            "flex": null,
            "_model_name": "LayoutModel",
            "justify_items": null,
            "grid_row": null,
            "max_height": null,
            "align_content": null,
            "visibility": null,
            "align_self": null,
            "height": null,
            "min_height": null,
            "padding": null,
            "grid_auto_rows": null,
            "grid_gap": null,
            "max_width": null,
            "order": null,
            "_view_module_version": "1.2.0",
            "grid_template_areas": null,
            "object_position": null,
            "object_fit": null,
            "grid_auto_columns": null,
            "margin": null,
            "display": null,
            "left": null
          }
        },
        "ffcd71679d9a4a3baf9253cf5bbc3709": {
          "model_module": "@jupyter-widgets/controls",
          "model_name": "DescriptionStyleModel",
          "state": {
            "_view_name": "StyleView",
            "_model_name": "DescriptionStyleModel",
            "description_width": "",
            "_view_module": "@jupyter-widgets/base",
            "_model_module_version": "1.5.0",
            "_view_count": null,
            "_view_module_version": "1.2.0",
            "_model_module": "@jupyter-widgets/controls"
          }
        },
        "a3d57ad947be4f6cb37451933d1db8a3": {
          "model_module": "@jupyter-widgets/base",
          "model_name": "LayoutModel",
          "state": {
            "_view_name": "LayoutView",
            "grid_template_rows": null,
            "right": null,
            "justify_content": null,
            "_view_module": "@jupyter-widgets/base",
            "overflow": null,
            "_model_module_version": "1.2.0",
            "_view_count": null,
            "flex_flow": null,
            "width": null,
            "min_width": null,
            "border": null,
            "align_items": null,
            "bottom": null,
            "_model_module": "@jupyter-widgets/base",
            "top": null,
            "grid_column": null,
            "overflow_y": null,
            "overflow_x": null,
            "grid_auto_flow": null,
            "grid_area": null,
            "grid_template_columns": null,
            "flex": null,
            "_model_name": "LayoutModel",
            "justify_items": null,
            "grid_row": null,
            "max_height": null,
            "align_content": null,
            "visibility": null,
            "align_self": null,
            "height": null,
            "min_height": null,
            "padding": null,
            "grid_auto_rows": null,
            "grid_gap": null,
            "max_width": null,
            "order": null,
            "_view_module_version": "1.2.0",
            "grid_template_areas": null,
            "object_position": null,
            "object_fit": null,
            "grid_auto_columns": null,
            "margin": null,
            "display": null,
            "left": null
          }
        },
        "7a5ae1cebc4b484691517ea43055c3f4": {
          "model_module": "@jupyter-widgets/controls",
          "model_name": "HBoxModel",
          "state": {
            "_view_name": "HBoxView",
            "_dom_classes": [],
            "_model_name": "HBoxModel",
            "_view_module": "@jupyter-widgets/controls",
            "_model_module_version": "1.5.0",
            "_view_count": null,
            "_view_module_version": "1.5.0",
            "box_style": "",
            "layout": "IPY_MODEL_fa2e68946fec43d0a08db9f83177d91f",
            "_model_module": "@jupyter-widgets/controls",
            "children": [
              "IPY_MODEL_2a9254f11e3040dbbcda0f56ef5add37",
              "IPY_MODEL_fdf2301900504659853ab6c0238762be"
            ]
          }
        },
        "fa2e68946fec43d0a08db9f83177d91f": {
          "model_module": "@jupyter-widgets/base",
          "model_name": "LayoutModel",
          "state": {
            "_view_name": "LayoutView",
            "grid_template_rows": null,
            "right": null,
            "justify_content": null,
            "_view_module": "@jupyter-widgets/base",
            "overflow": null,
            "_model_module_version": "1.2.0",
            "_view_count": null,
            "flex_flow": null,
            "width": null,
            "min_width": null,
            "border": null,
            "align_items": null,
            "bottom": null,
            "_model_module": "@jupyter-widgets/base",
            "top": null,
            "grid_column": null,
            "overflow_y": null,
            "overflow_x": null,
            "grid_auto_flow": null,
            "grid_area": null,
            "grid_template_columns": null,
            "flex": null,
            "_model_name": "LayoutModel",
            "justify_items": null,
            "grid_row": null,
            "max_height": null,
            "align_content": null,
            "visibility": null,
            "align_self": null,
            "height": null,
            "min_height": null,
            "padding": null,
            "grid_auto_rows": null,
            "grid_gap": null,
            "max_width": null,
            "order": null,
            "_view_module_version": "1.2.0",
            "grid_template_areas": null,
            "object_position": null,
            "object_fit": null,
            "grid_auto_columns": null,
            "margin": null,
            "display": null,
            "left": null
          }
        },
        "2a9254f11e3040dbbcda0f56ef5add37": {
          "model_module": "@jupyter-widgets/controls",
          "model_name": "FloatProgressModel",
          "state": {
            "_view_name": "ProgressView",
            "style": "IPY_MODEL_ba1858b99ba149c09f1f41454d56874d",
            "_dom_classes": [],
            "description": "",
            "_model_name": "FloatProgressModel",
            "bar_style": "success",
            "max": 1,
            "_view_module": "@jupyter-widgets/controls",
            "_model_module_version": "1.5.0",
            "value": 1,
            "_view_count": null,
            "_view_module_version": "1.5.0",
            "orientation": "horizontal",
            "min": 0,
            "description_tooltip": null,
            "_model_module": "@jupyter-widgets/controls",
            "layout": "IPY_MODEL_d52a33ccd38a4c6186edb0495d618a95"
          }
        },
        "fdf2301900504659853ab6c0238762be": {
          "model_module": "@jupyter-widgets/controls",
          "model_name": "HTMLModel",
          "state": {
            "_view_name": "HTMLView",
            "style": "IPY_MODEL_6a3fe05c3c99451892f2387a9c370eb9",
            "_dom_classes": [],
            "description": "",
            "_model_name": "HTMLModel",
            "placeholder": "​",
            "_view_module": "@jupyter-widgets/controls",
            "_model_module_version": "1.5.0",
            "value": " 8192/? [00:00&lt;00:00, 13735.60it/s]",
            "_view_count": null,
            "_view_module_version": "1.5.0",
            "description_tooltip": null,
            "_model_module": "@jupyter-widgets/controls",
            "layout": "IPY_MODEL_0b91c700243a47f19a7e64570aa9aacd"
          }
        },
        "ba1858b99ba149c09f1f41454d56874d": {
          "model_module": "@jupyter-widgets/controls",
          "model_name": "ProgressStyleModel",
          "state": {
            "_view_name": "StyleView",
            "_model_name": "ProgressStyleModel",
            "description_width": "initial",
            "_view_module": "@jupyter-widgets/base",
            "_model_module_version": "1.5.0",
            "_view_count": null,
            "_view_module_version": "1.2.0",
            "bar_color": null,
            "_model_module": "@jupyter-widgets/controls"
          }
        },
        "d52a33ccd38a4c6186edb0495d618a95": {
          "model_module": "@jupyter-widgets/base",
          "model_name": "LayoutModel",
          "state": {
            "_view_name": "LayoutView",
            "grid_template_rows": null,
            "right": null,
            "justify_content": null,
            "_view_module": "@jupyter-widgets/base",
            "overflow": null,
            "_model_module_version": "1.2.0",
            "_view_count": null,
            "flex_flow": null,
            "width": null,
            "min_width": null,
            "border": null,
            "align_items": null,
            "bottom": null,
            "_model_module": "@jupyter-widgets/base",
            "top": null,
            "grid_column": null,
            "overflow_y": null,
            "overflow_x": null,
            "grid_auto_flow": null,
            "grid_area": null,
            "grid_template_columns": null,
            "flex": null,
            "_model_name": "LayoutModel",
            "justify_items": null,
            "grid_row": null,
            "max_height": null,
            "align_content": null,
            "visibility": null,
            "align_self": null,
            "height": null,
            "min_height": null,
            "padding": null,
            "grid_auto_rows": null,
            "grid_gap": null,
            "max_width": null,
            "order": null,
            "_view_module_version": "1.2.0",
            "grid_template_areas": null,
            "object_position": null,
            "object_fit": null,
            "grid_auto_columns": null,
            "margin": null,
            "display": null,
            "left": null
          }
        },
        "6a3fe05c3c99451892f2387a9c370eb9": {
          "model_module": "@jupyter-widgets/controls",
          "model_name": "DescriptionStyleModel",
          "state": {
            "_view_name": "StyleView",
            "_model_name": "DescriptionStyleModel",
            "description_width": "",
            "_view_module": "@jupyter-widgets/base",
            "_model_module_version": "1.5.0",
            "_view_count": null,
            "_view_module_version": "1.2.0",
            "_model_module": "@jupyter-widgets/controls"
          }
        },
        "0b91c700243a47f19a7e64570aa9aacd": {
          "model_module": "@jupyter-widgets/base",
          "model_name": "LayoutModel",
          "state": {
            "_view_name": "LayoutView",
            "grid_template_rows": null,
            "right": null,
            "justify_content": null,
            "_view_module": "@jupyter-widgets/base",
            "overflow": null,
            "_model_module_version": "1.2.0",
            "_view_count": null,
            "flex_flow": null,
            "width": null,
            "min_width": null,
            "border": null,
            "align_items": null,
            "bottom": null,
            "_model_module": "@jupyter-widgets/base",
            "top": null,
            "grid_column": null,
            "overflow_y": null,
            "overflow_x": null,
            "grid_auto_flow": null,
            "grid_area": null,
            "grid_template_columns": null,
            "flex": null,
            "_model_name": "LayoutModel",
            "justify_items": null,
            "grid_row": null,
            "max_height": null,
            "align_content": null,
            "visibility": null,
            "align_self": null,
            "height": null,
            "min_height": null,
            "padding": null,
            "grid_auto_rows": null,
            "grid_gap": null,
            "max_width": null,
            "order": null,
            "_view_module_version": "1.2.0",
            "grid_template_areas": null,
            "object_position": null,
            "object_fit": null,
            "grid_auto_columns": null,
            "margin": null,
            "display": null,
            "left": null
          }
        }
      }
    }
  },
  "cells": [
    {
      "cell_type": "markdown",
      "metadata": {
        "id": "Jd0wDn7vWjC-",
        "colab_type": "text"
      },
      "source": [
        "# **MNIST Handwritten Digits Classification**\n",
        "A FCNN (Fully Connected Neural Network) and CNN (Convolutional Nerual Network) have been modeled"
      ]
    },
    {
      "cell_type": "markdown",
      "metadata": {
        "id": "iQEobqIfZy0x",
        "colab_type": "text"
      },
      "source": [
        "## Import required packages"
      ]
    },
    {
      "cell_type": "code",
      "metadata": {
        "id": "qdrpoBnCj1r5",
        "colab_type": "code",
        "colab": {
          "base_uri": "https://localhost:8080/",
          "height": 51
        },
        "outputId": "b93ea289-b50a-480b-ce4b-49c201afa733"
      },
      "source": [
        "import numpy as np \n",
        "import torch \n",
        "from torchvision import datasets,transforms\n",
        "import matplotlib.pyplot as plt \n",
        "import seaborn as sns\n",
        "import torch.nn as nn\n",
        "import torch.nn.functional as F\n",
        "from torch.utils.data.sampler import SubsetRandomSampler"
      ],
      "execution_count": 1,
      "outputs": [
        {
          "output_type": "stream",
          "text": [
            "/usr/local/lib/python3.6/dist-packages/statsmodels/tools/_testing.py:19: FutureWarning: pandas.util.testing is deprecated. Use the functions in the public API at pandas.testing instead.\n",
            "  import pandas.util.testing as tm\n"
          ],
          "name": "stderr"
        }
      ]
    },
    {
      "cell_type": "markdown",
      "metadata": {
        "id": "h51P0XuLZ29A",
        "colab_type": "text"
      },
      "source": [
        "## Defining our Transforms"
      ]
    },
    {
      "cell_type": "code",
      "metadata": {
        "id": "ZPjHdd8IlJZw",
        "colab_type": "code",
        "colab": {}
      },
      "source": [
        "transform=transforms.Compose([transforms.ToTensor()])"
      ],
      "execution_count": 2,
      "outputs": []
    },
    {
      "cell_type": "markdown",
      "metadata": {
        "id": "seH5ywhsZ7CL",
        "colab_type": "text"
      },
      "source": [
        "## Gathering the train and test data\n"
      ]
    },
    {
      "cell_type": "code",
      "metadata": {
        "id": "rkagJHmFpVNd",
        "colab_type": "code",
        "colab": {
          "base_uri": "https://localhost:8080/",
          "height": 386,
          "referenced_widgets": [
            "6d566e0aa03240d189c63ef26264b45f",
            "e8d0fda9268c4f4e9517da801b067b3a",
            "8b354eebc38f4c2686cd8c2cf0f14a7e",
            "6804adc077bd45eb9f725d50da8d349d",
            "758bebbba8414cff90ab9366632d6da2",
            "54ea2018f84a48429f46d63a73301e49",
            "627b3203ecb84b08a744dc91e1acce2b",
            "8303232f317a4cdcb7dc7b5ab1721475",
            "c4960593bc3a4718831ae63289ae0dad",
            "4b273728d56540bc96c460126daaf0ff",
            "344b28a1e16d4d80ab94d838860cc343",
            "7c3f83f98c4142fba4d604bb81d1333c",
            "f79569a33bf9456e8290016b2dfa2890",
            "31c45636e9f14b16b8388584d27ec96d",
            "903e44e3a3104626895bf0548da341b3",
            "030f1e0fc24d49449eb5bf51df872fb8",
            "1b94348460ee46618d837622772e0fcf",
            "ab8229c1f34042cc902249a94640a0db",
            "0418a65f0b844af190e5bbe9d9c25ab8",
            "3e32e78d936f4d31b9df897e1bf973be",
            "c8682eea707b4051bfaf8adcda9bd28d",
            "670ed79c556f42b1b27c077cf5b62b3b",
            "ffcd71679d9a4a3baf9253cf5bbc3709",
            "a3d57ad947be4f6cb37451933d1db8a3",
            "7a5ae1cebc4b484691517ea43055c3f4",
            "fa2e68946fec43d0a08db9f83177d91f",
            "2a9254f11e3040dbbcda0f56ef5add37",
            "fdf2301900504659853ab6c0238762be",
            "ba1858b99ba149c09f1f41454d56874d",
            "d52a33ccd38a4c6186edb0495d618a95",
            "6a3fe05c3c99451892f2387a9c370eb9",
            "0b91c700243a47f19a7e64570aa9aacd"
          ]
        },
        "outputId": "063564a9-f4f8-4c7c-9c3b-d4f07f06095f"
      },
      "source": [
        "train_data=datasets.MNIST('data',train=True,download=True,transform=transform)\n",
        "test_data=datasets.MNIST('data',train=False,download=True,transform=transform)"
      ],
      "execution_count": 3,
      "outputs": [
        {
          "output_type": "stream",
          "text": [
            "Downloading http://yann.lecun.com/exdb/mnist/train-images-idx3-ubyte.gz to data/MNIST/raw/train-images-idx3-ubyte.gz\n"
          ],
          "name": "stdout"
        },
        {
          "output_type": "display_data",
          "data": {
            "application/vnd.jupyter.widget-view+json": {
              "model_id": "6d566e0aa03240d189c63ef26264b45f",
              "version_minor": 0,
              "version_major": 2
            },
            "text/plain": [
              "HBox(children=(FloatProgress(value=1.0, bar_style='info', max=1.0), HTML(value='')))"
            ]
          },
          "metadata": {
            "tags": []
          }
        },
        {
          "output_type": "stream",
          "text": [
            "Extracting data/MNIST/raw/train-images-idx3-ubyte.gz to data/MNIST/raw\n",
            "Downloading http://yann.lecun.com/exdb/mnist/train-labels-idx1-ubyte.gz to data/MNIST/raw/train-labels-idx1-ubyte.gz\n"
          ],
          "name": "stdout"
        },
        {
          "output_type": "display_data",
          "data": {
            "application/vnd.jupyter.widget-view+json": {
              "model_id": "c4960593bc3a4718831ae63289ae0dad",
              "version_minor": 0,
              "version_major": 2
            },
            "text/plain": [
              "HBox(children=(FloatProgress(value=1.0, bar_style='info', max=1.0), HTML(value='')))"
            ]
          },
          "metadata": {
            "tags": []
          }
        },
        {
          "output_type": "stream",
          "text": [
            "Extracting data/MNIST/raw/train-labels-idx1-ubyte.gz to data/MNIST/raw\n",
            "Downloading http://yann.lecun.com/exdb/mnist/t10k-images-idx3-ubyte.gz to data/MNIST/raw/t10k-images-idx3-ubyte.gz\n",
            "\n"
          ],
          "name": "stdout"
        },
        {
          "output_type": "display_data",
          "data": {
            "application/vnd.jupyter.widget-view+json": {
              "model_id": "1b94348460ee46618d837622772e0fcf",
              "version_minor": 0,
              "version_major": 2
            },
            "text/plain": [
              "HBox(children=(FloatProgress(value=1.0, bar_style='info', max=1.0), HTML(value='')))"
            ]
          },
          "metadata": {
            "tags": []
          }
        },
        {
          "output_type": "stream",
          "text": [
            "Extracting data/MNIST/raw/t10k-images-idx3-ubyte.gz to data/MNIST/raw\n",
            "Downloading http://yann.lecun.com/exdb/mnist/t10k-labels-idx1-ubyte.gz to data/MNIST/raw/t10k-labels-idx1-ubyte.gz\n"
          ],
          "name": "stdout"
        },
        {
          "output_type": "display_data",
          "data": {
            "application/vnd.jupyter.widget-view+json": {
              "model_id": "7a5ae1cebc4b484691517ea43055c3f4",
              "version_minor": 0,
              "version_major": 2
            },
            "text/plain": [
              "HBox(children=(FloatProgress(value=1.0, bar_style='info', max=1.0), HTML(value='')))"
            ]
          },
          "metadata": {
            "tags": []
          }
        },
        {
          "output_type": "stream",
          "text": [
            "Extracting data/MNIST/raw/t10k-labels-idx1-ubyte.gz to data/MNIST/raw\n",
            "Processing...\n",
            "Done!\n"
          ],
          "name": "stdout"
        },
        {
          "output_type": "stream",
          "text": [
            "/usr/local/lib/python3.6/dist-packages/torchvision/datasets/mnist.py:469: UserWarning: The given NumPy array is not writeable, and PyTorch does not support non-writeable tensors. This means you can write to the underlying (supposedly non-writeable) NumPy array using the tensor. You may want to copy the array to protect its data or make it writeable before converting it to a tensor. This type of warning will be suppressed for the rest of this program. (Triggered internally at  /pytorch/torch/csrc/utils/tensor_numpy.cpp:141.)\n",
            "  return torch.from_numpy(parsed.astype(m[2], copy=False)).view(*s)\n"
          ],
          "name": "stderr"
        }
      ]
    },
    {
      "cell_type": "markdown",
      "metadata": {
        "id": "UPffPjsoZ-Os",
        "colab_type": "text"
      },
      "source": [
        "## Defining our Train, Valid and Test Dataloaders"
      ]
    },
    {
      "cell_type": "code",
      "metadata": {
        "id": "2b3RqpZ8Jq19",
        "colab_type": "code",
        "colab": {}
      },
      "source": [
        "valid_size=0.2\n",
        "batch_size=20\n",
        "num_workers=0\n",
        "\n",
        "train_length = len(train_data)\n",
        "\n",
        "# obtain training dataset indices that will be used for validation dataset\n",
        "indices = list(range(train_length))\n",
        "\n",
        "np.random.shuffle(indices)\n",
        "split = int(np.floor(valid_size * train_length))\n",
        "train_idx, valid_idx = indices[split:], indices[:split]\n",
        "\n",
        "# define samplers for obtaining training and validation batches\n",
        "train_sampler = SubsetRandomSampler(train_idx)\n",
        "valid_sampler = SubsetRandomSampler(valid_idx)\n",
        "\n",
        "# prepare data loaders for train, test and validation dataset\n",
        "train_loader = torch.utils.data.DataLoader(train_data, batch_size=batch_size,\n",
        "    sampler=train_sampler, num_workers=num_workers)\n",
        "valid_loader = torch.utils.data.DataLoader(train_data, batch_size=batch_size, \n",
        "    sampler=valid_sampler, num_workers=num_workers)\n",
        "test_loader = torch.utils.data.DataLoader(test_data, batch_size=batch_size, \n",
        "    num_workers=num_workers)"
      ],
      "execution_count": 4,
      "outputs": []
    },
    {
      "cell_type": "code",
      "metadata": {
        "id": "SFrfD1rovarC",
        "colab_type": "code",
        "colab": {
          "base_uri": "https://localhost:8080/",
          "height": 34
        },
        "outputId": "6aa94731-1e52-4267-9de1-3daa45c7c710"
      },
      "source": [
        "# This is for debugging\n",
        "train_idx.__len__(),valid_idx.__len__()"
      ],
      "execution_count": 5,
      "outputs": [
        {
          "output_type": "execute_result",
          "data": {
            "text/plain": [
              "(48000, 12000)"
            ]
          },
          "metadata": {
            "tags": []
          },
          "execution_count": 5
        }
      ]
    },
    {
      "cell_type": "code",
      "metadata": {
        "id": "Ia4zhtOwaNF-",
        "colab_type": "code",
        "colab": {
          "base_uri": "https://localhost:8080/",
          "height": 34
        },
        "outputId": "d24a3738-d95b-4082-9d26-89308677ffdc"
      },
      "source": [
        "# Printing the length of our train, valid and test dataloaders\n",
        "# NOTE : Here batch size is 20\n",
        "len(train_loader),len(valid_loader),len(test_loader)"
      ],
      "execution_count": 6,
      "outputs": [
        {
          "output_type": "execute_result",
          "data": {
            "text/plain": [
              "(2400, 600, 500)"
            ]
          },
          "metadata": {
            "tags": []
          },
          "execution_count": 6
        }
      ]
    },
    {
      "cell_type": "code",
      "metadata": {
        "id": "MygM53E6aPDq",
        "colab_type": "code",
        "colab": {
          "base_uri": "https://localhost:8080/",
          "height": 986
        },
        "outputId": "b3b601ad-fc68-4de6-9f38-15db81c0363a"
      },
      "source": [
        "\n",
        "# checking our data\n",
        "dataiter=iter(train_loader)\n",
        "images,labels=dataiter.next()\n",
        "print(images, images.shape, len(images), images[0].shape)\n",
        "print()\n",
        "print(labels,labels.shape,len(labels))"
      ],
      "execution_count": 7,
      "outputs": [
        {
          "output_type": "stream",
          "text": [
            "tensor([[[[0., 0., 0.,  ..., 0., 0., 0.],\n",
            "          [0., 0., 0.,  ..., 0., 0., 0.],\n",
            "          [0., 0., 0.,  ..., 0., 0., 0.],\n",
            "          ...,\n",
            "          [0., 0., 0.,  ..., 0., 0., 0.],\n",
            "          [0., 0., 0.,  ..., 0., 0., 0.],\n",
            "          [0., 0., 0.,  ..., 0., 0., 0.]]],\n",
            "\n",
            "\n",
            "        [[[0., 0., 0.,  ..., 0., 0., 0.],\n",
            "          [0., 0., 0.,  ..., 0., 0., 0.],\n",
            "          [0., 0., 0.,  ..., 0., 0., 0.],\n",
            "          ...,\n",
            "          [0., 0., 0.,  ..., 0., 0., 0.],\n",
            "          [0., 0., 0.,  ..., 0., 0., 0.],\n",
            "          [0., 0., 0.,  ..., 0., 0., 0.]]],\n",
            "\n",
            "\n",
            "        [[[0., 0., 0.,  ..., 0., 0., 0.],\n",
            "          [0., 0., 0.,  ..., 0., 0., 0.],\n",
            "          [0., 0., 0.,  ..., 0., 0., 0.],\n",
            "          ...,\n",
            "          [0., 0., 0.,  ..., 0., 0., 0.],\n",
            "          [0., 0., 0.,  ..., 0., 0., 0.],\n",
            "          [0., 0., 0.,  ..., 0., 0., 0.]]],\n",
            "\n",
            "\n",
            "        ...,\n",
            "\n",
            "\n",
            "        [[[0., 0., 0.,  ..., 0., 0., 0.],\n",
            "          [0., 0., 0.,  ..., 0., 0., 0.],\n",
            "          [0., 0., 0.,  ..., 0., 0., 0.],\n",
            "          ...,\n",
            "          [0., 0., 0.,  ..., 0., 0., 0.],\n",
            "          [0., 0., 0.,  ..., 0., 0., 0.],\n",
            "          [0., 0., 0.,  ..., 0., 0., 0.]]],\n",
            "\n",
            "\n",
            "        [[[0., 0., 0.,  ..., 0., 0., 0.],\n",
            "          [0., 0., 0.,  ..., 0., 0., 0.],\n",
            "          [0., 0., 0.,  ..., 0., 0., 0.],\n",
            "          ...,\n",
            "          [0., 0., 0.,  ..., 0., 0., 0.],\n",
            "          [0., 0., 0.,  ..., 0., 0., 0.],\n",
            "          [0., 0., 0.,  ..., 0., 0., 0.]]],\n",
            "\n",
            "\n",
            "        [[[0., 0., 0.,  ..., 0., 0., 0.],\n",
            "          [0., 0., 0.,  ..., 0., 0., 0.],\n",
            "          [0., 0., 0.,  ..., 0., 0., 0.],\n",
            "          ...,\n",
            "          [0., 0., 0.,  ..., 0., 0., 0.],\n",
            "          [0., 0., 0.,  ..., 0., 0., 0.],\n",
            "          [0., 0., 0.,  ..., 0., 0., 0.]]]]) torch.Size([20, 1, 28, 28]) 20 torch.Size([1, 28, 28])\n",
            "\n",
            "tensor([8, 4, 4, 7, 1, 1, 5, 3, 6, 6, 6, 7, 7, 7, 1, 9, 6, 7, 0, 0]) torch.Size([20]) 20\n"
          ],
          "name": "stdout"
        }
      ]
    },
    {
      "cell_type": "markdown",
      "metadata": {
        "id": "3bJU78-BaDfm",
        "colab_type": "text"
      },
      "source": [
        "## Visualizing a Training batch"
      ]
    },
    {
      "cell_type": "code",
      "metadata": {
        "id": "eMhKVPKTaWTz",
        "colab_type": "code",
        "colab": {
          "base_uri": "https://localhost:8080/",
          "height": 469
        },
        "outputId": "009affa2-5e5a-44cf-cbde-676fed45c56e"
      },
      "source": [
        "# Displaying images and labels of a batch\n",
        "fig=plt.figure(figsize=(30,10))\n",
        "for i in range(len(labels)):\n",
        "    ax=fig.add_subplot(2,10,i+1,xticks=[],yticks=[])\n",
        "    plt.imshow(np.squeeze(images[i]))\n",
        "    ax.set_title(labels[i].item(),color='blue')"
      ],
      "execution_count": 8,
      "outputs": [
        {
          "output_type": "stream",
          "text": [
            "\n",
            "\n"
          ],
          "name": "stdout"
        },
        {
          "output_type": "display_data",
          "data": {
            "image/png": "[encoded data removed]",
            "text/plain": [
              "<Figure size 2160x720 with 20 Axes>"
            ]
          },
          "metadata": {
            "tags": []
          }
        }
      ]
    },
    {
      "cell_type": "markdown",
      "metadata": {
        "id": "bei4lsIdaF8p",
        "colab_type": "text"
      },
      "source": [
        "## Defining our Neural Net Architecture"
      ]
    },
    {
      "cell_type": "code",
      "metadata": {
        "id": "3UER4pRlaXpX",
        "colab_type": "code",
        "colab": {}
      },
      "source": [
        "\n",
        "# Model 1 : This model has dropout set to a certain value\n",
        "# NOTE : When we want to use dropout we ensure we run train() method on our model --- during training , if not required we should use eval() method --- validation and testing\n",
        "class FNet(nn.Module):\n",
        "    def __init__(self):\n",
        "        super(FNet,self).__init__()\n",
        "        self.fc1=nn.Linear(784,512)\n",
        "        self.fc2=nn.Linear(512,256)\n",
        "        self.out=nn.Linear(256,10)\n",
        "        \n",
        "        # Dropout probability - set for avoiding overfitting\n",
        "        self.dropout=nn.Dropout(0.2)\n",
        "\n",
        "    def forward(self,x):\n",
        "        x = x.view(-1, 28 * 28)        \n",
        "        x=self.dropout(torch.sigmoid(self.fc1(x)))\n",
        "        x=self.dropout(torch.sigmoid(self.fc2(x)))\n",
        "        x=self.out(x)\n",
        "        return x\n",
        "\n",
        "class convNet(nn.Module):\n",
        "  def __init__(self):\n",
        "    super(convNet,self).__init__()\n",
        "    self.conv1=nn.Conv2d(in_channels=1,out_channels=16,kernel_size=3,padding=1,stride=1)\n",
        "    self.conv2=nn.Conv2d(in_channels=16,out_channels=32,kernel_size=3,padding=1,stride=1)\n",
        "    self.pool=nn.MaxPool2d(kernel_size=2,stride=2)\n",
        "\n",
        "\n",
        "    self.fc1=nn.Linear(7*7*32,512)\n",
        "    self.fc2=nn.Linear(512,256)\n",
        "    self.out=nn.Linear(256,10)\n",
        "    self.dropout=nn.Dropout(0.2)\n",
        "\n",
        "  def forward(self,x):\n",
        "    x=self.pool(F.relu(self.conv1(x)))\n",
        "    x=self.pool(F.relu(self.conv2(x)))\n",
        "    x=x.view(-1,7*7*32)\n",
        "    x=self.dropout(F.relu(self.fc1(x)))\n",
        "    x=self.dropout(F.relu(self.fc2(x)))\n",
        "    x=self.out(x)\n",
        "    return x\n",
        "    "
      ],
      "execution_count": 9,
      "outputs": []
    },
    {
      "cell_type": "code",
      "metadata": {
        "id": "ZraXzPRya1X_",
        "colab_type": "code",
        "colab": {
          "base_uri": "https://localhost:8080/",
          "height": 391
        },
        "outputId": "1b4528da-0fff-4c0a-cb43-f9b2fb2a2835"
      },
      "source": [
        "model_1=FNet()\n",
        "model_2=convNet()\n",
        "\n",
        "use_cuda=True\n",
        "if use_cuda and torch.cuda.is_available():\n",
        "  model_1.cuda()\n",
        "  model_2.cuda()\n",
        "\n",
        "\n",
        "print(model_1,'\\n\\n\\n\\n',model_2,'\\n\\n\\n\\n','On GPU : ',torch.cuda.is_available())"
      ],
      "execution_count": 10,
      "outputs": [
        {
          "output_type": "stream",
          "text": [
            "FNet(\n",
            "  (fc1): Linear(in_features=784, out_features=512, bias=True)\n",
            "  (fc2): Linear(in_features=512, out_features=256, bias=True)\n",
            "  (out): Linear(in_features=256, out_features=10, bias=True)\n",
            "  (dropout): Dropout(p=0.2, inplace=False)\n",
            ") \n",
            "\n",
            "\n",
            "\n",
            " convNet(\n",
            "  (conv1): Conv2d(1, 16, kernel_size=(3, 3), stride=(1, 1), padding=(1, 1))\n",
            "  (conv2): Conv2d(16, 32, kernel_size=(3, 3), stride=(1, 1), padding=(1, 1))\n",
            "  (pool): MaxPool2d(kernel_size=2, stride=2, padding=0, dilation=1, ceil_mode=False)\n",
            "  (fc1): Linear(in_features=1568, out_features=512, bias=True)\n",
            "  (fc2): Linear(in_features=512, out_features=256, bias=True)\n",
            "  (out): Linear(in_features=256, out_features=10, bias=True)\n",
            "  (dropout): Dropout(p=0.2, inplace=False)\n",
            ") \n",
            "\n",
            "\n",
            "\n",
            " On GPU :  True\n"
          ],
          "name": "stdout"
        }
      ]
    },
    {
      "cell_type": "markdown",
      "metadata": {
        "id": "W6fHiVR0aKEL",
        "colab_type": "text"
      },
      "source": [
        "## Defining our Loss Function"
      ]
    },
    {
      "cell_type": "code",
      "metadata": {
        "id": "0l5LIkQmaa6t",
        "colab_type": "code",
        "colab": {}
      },
      "source": [
        "# Loss Function\n",
        "# If we did not compute softmax at output use nn.CrossentropyLoss() else use nn.NLLLoss()\n",
        "criterion=nn.CrossEntropyLoss()\n"
      ],
      "execution_count": 11,
      "outputs": []
    },
    {
      "cell_type": "markdown",
      "metadata": {
        "id": "z4VHb9kUaPC5",
        "colab_type": "text"
      },
      "source": [
        "## Training and Validation Phase"
      ]
    },
    {
      "cell_type": "code",
      "metadata": {
        "id": "rGTVhhVaacsi",
        "colab_type": "code",
        "colab": {}
      },
      "source": [
        "def trainNet(model,lr):\n",
        "    optimizer=torch.optim.Adam(model.parameters(),lr=lr)\n",
        "\n",
        "\n",
        "    # Number of epochs to train for\n",
        "    loss_keeper={'train':[],'valid':[]}\n",
        "    epochs=20\n",
        "\n",
        "    # minimum validation loss ----- set initial minimum to infinity\n",
        "    valid_loss_min = np.Inf \n",
        "\n",
        "    for epoch in range(epochs):\n",
        "        train_loss=0.0\n",
        "        valid_loss=0.0\n",
        "\n",
        "        \"\"\"\n",
        "        TRAINING PHASE\n",
        "        \"\"\"\n",
        "        model.train() # TURN ON DROPOUT for training\n",
        "        for images,labels in train_loader:\n",
        "            if use_cuda and torch.cuda.is_available():\n",
        "                images,labels=images.cuda(),labels.cuda()\n",
        "            optimizer.zero_grad()\n",
        "            output=model(images)\n",
        "            loss=criterion(output,labels)\n",
        "            loss.backward()\n",
        "            optimizer.step()\n",
        "            train_loss+=loss.item()\n",
        "\n",
        "        \"\"\"\n",
        "        VALIDATION PHASE\n",
        "        \"\"\"\n",
        "        model.eval() # TURN OFF DROPOUT for validation\n",
        "        for images,labels in valid_loader:\n",
        "            if use_cuda and torch.cuda.is_available():\n",
        "                images,labels=images.cuda(),labels.cuda()\n",
        "            output=model(images)\n",
        "            loss=criterion(output,labels)\n",
        "            valid_loss+=loss.item()\n",
        "\n",
        "        # Calculating loss over entire batch size for every epoch\n",
        "        train_loss = train_loss/len(train_loader)\n",
        "        valid_loss = valid_loss/len(valid_loader)\n",
        "\n",
        "\n",
        "        # saving loss values\n",
        "        loss_keeper['train'].append(train_loss)\n",
        "        loss_keeper['valid'].append(valid_loss)\n",
        "\n",
        "        print(f\"\\nEpoch : {epoch+1}\\tTraining Loss : {train_loss}\\tValidation Loss : {valid_loss}\")\n",
        "        if valid_loss<=valid_loss_min:\n",
        "            print(f\"Validation loss decreased from : {valid_loss_min} ----> {valid_loss} ----> Saving Model.......\")\n",
        "        z=type(model).__name__\n",
        "        torch.save(model.state_dict(), z+'_model.pth')\n",
        "        valid_loss_min=valid_loss\n",
        "    return(loss_keeper)"
      ],
      "execution_count": 12,
      "outputs": []
    },
    {
      "cell_type": "code",
      "metadata": {
        "id": "5tyKfCORo-kn",
        "colab_type": "code",
        "colab": {
          "base_uri": "https://localhost:8080/",
          "height": 884
        },
        "outputId": "9e6f0087-6db7-4bca-814f-3bcc432a14d4"
      },
      "source": [
        "m1_loss=trainNet(model_1,0.001)"
      ],
      "execution_count": 13,
      "outputs": [
        {
          "output_type": "stream",
          "text": [
            "\n",
            "Epoch : 1\tTraining Loss : 0.39812957840040325\tValidation Loss : 0.18842560219888885\n",
            "Validation loss decreased from : inf ----> 0.18842560219888885 ----> Saving Model.......\n",
            "\n",
            "Epoch : 2\tTraining Loss : 0.15855457877371615\tValidation Loss : 0.1233623548624261\n",
            "Validation loss decreased from : 0.18842560219888885 ----> 0.1233623548624261 ----> Saving Model.......\n",
            "\n",
            "Epoch : 3\tTraining Loss : 0.1123578728857198\tValidation Loss : 0.09879512050654739\n",
            "Validation loss decreased from : 0.1233623548624261 ----> 0.09879512050654739 ----> Saving Model.......\n",
            "\n",
            "Epoch : 4\tTraining Loss : 0.0831171301290063\tValidation Loss : 0.08819278451866315\n",
            "Validation loss decreased from : 0.09879512050654739 ----> 0.08819278451866315 ----> Saving Model.......\n",
            "\n",
            "Epoch : 5\tTraining Loss : 0.06516427677675286\tValidation Loss : 0.0813408897890137\n",
            "Validation loss decreased from : 0.08819278451866315 ----> 0.0813408897890137 ----> Saving Model.......\n",
            "\n",
            "Epoch : 6\tTraining Loss : 0.05316900384443822\tValidation Loss : 0.0782483825693392\n",
            "Validation loss decreased from : 0.0813408897890137 ----> 0.0782483825693392 ----> Saving Model.......\n",
            "\n",
            "Epoch : 7\tTraining Loss : 0.044032152658001\tValidation Loss : 0.07523465906160709\n",
            "Validation loss decreased from : 0.0782483825693392 ----> 0.07523465906160709 ----> Saving Model.......\n",
            "\n",
            "Epoch : 8\tTraining Loss : 0.033821693612396\tValidation Loss : 0.077205797862019\n",
            "\n",
            "Epoch : 9\tTraining Loss : 0.029663057859264274\tValidation Loss : 0.07876117403697208\n",
            "\n",
            "Epoch : 10\tTraining Loss : 0.026385591837253818\tValidation Loss : 0.0860669793769072\n",
            "\n",
            "Epoch : 11\tTraining Loss : 0.023324077449622487\tValidation Loss : 0.07744707628407013\n",
            "Validation loss decreased from : 0.0860669793769072 ----> 0.07744707628407013 ----> Saving Model.......\n",
            "\n",
            "Epoch : 12\tTraining Loss : 0.018542224921922448\tValidation Loss : 0.08203894180981328\n",
            "\n",
            "Epoch : 13\tTraining Loss : 0.019152381825468676\tValidation Loss : 0.08616065819571\n",
            "\n",
            "Epoch : 14\tTraining Loss : 0.016071207148295248\tValidation Loss : 0.08426182968701444\n",
            "Validation loss decreased from : 0.08616065819571 ----> 0.08426182968701444 ----> Saving Model.......\n",
            "\n",
            "Epoch : 15\tTraining Loss : 0.016260416316874284\tValidation Loss : 0.08481710982371547\n",
            "\n",
            "Epoch : 16\tTraining Loss : 0.01431226617189381\tValidation Loss : 0.08378576492717192\n",
            "Validation loss decreased from : 0.08481710982371547 ----> 0.08378576492717192 ----> Saving Model.......\n",
            "\n",
            "Epoch : 17\tTraining Loss : 0.013205994847114393\tValidation Loss : 0.08933375532731769\n",
            "\n",
            "Epoch : 18\tTraining Loss : 0.012045677795649563\tValidation Loss : 0.0887473424641351\n",
            "Validation loss decreased from : 0.08933375532731769 ----> 0.0887473424641351 ----> Saving Model.......\n",
            "\n",
            "Epoch : 19\tTraining Loss : 0.01097653500048267\tValidation Loss : 0.08942496725841105\n",
            "\n",
            "Epoch : 20\tTraining Loss : 0.010266864207148991\tValidation Loss : 0.09925672962747228\n"
          ],
          "name": "stdout"
        }
      ]
    },
    {
      "cell_type": "code",
      "metadata": {
        "id": "vNmdga7j89n7",
        "colab_type": "code",
        "colab": {
          "base_uri": "https://localhost:8080/",
          "height": 697
        },
        "outputId": "12517c87-c4d7-4cdc-a8ce-695ec85d960e"
      },
      "source": [
        "m1_loss"
      ],
      "execution_count": 14,
      "outputs": [
        {
          "output_type": "execute_result",
          "data": {
            "text/plain": [
              "{'train': [0.39812957840040325,\n",
              "  0.15855457877371615,\n",
              "  0.1123578728857198,\n",
              "  0.0831171301290063,\n",
              "  0.06516427677675286,\n",
              "  0.05316900384443822,\n",
              "  0.044032152658001,\n",
              "  0.033821693612396,\n",
              "  0.029663057859264274,\n",
              "  0.026385591837253818,\n",
              "  0.023324077449622487,\n",
              "  0.018542224921922448,\n",
              "  0.019152381825468676,\n",
              "  0.016071207148295248,\n",
              "  0.016260416316874284,\n",
              "  0.01431226617189381,\n",
              "  0.013205994847114393,\n",
              "  0.012045677795649563,\n",
              "  0.01097653500048267,\n",
              "  0.010266864207148991],\n",
              " 'valid': [0.18842560219888885,\n",
              "  0.1233623548624261,\n",
              "  0.09879512050654739,\n",
              "  0.08819278451866315,\n",
              "  0.0813408897890137,\n",
              "  0.0782483825693392,\n",
              "  0.07523465906160709,\n",
              "  0.077205797862019,\n",
              "  0.07876117403697208,\n",
              "  0.0860669793769072,\n",
              "  0.07744707628407013,\n",
              "  0.08203894180981328,\n",
              "  0.08616065819571,\n",
              "  0.08426182968701444,\n",
              "  0.08481710982371547,\n",
              "  0.08378576492717192,\n",
              "  0.08933375532731769,\n",
              "  0.0887473424641351,\n",
              "  0.08942496725841105,\n",
              "  0.09925672962747228]}"
            ]
          },
          "metadata": {
            "tags": []
          },
          "execution_count": 14
        }
      ]
    },
    {
      "cell_type": "code",
      "metadata": {
        "id": "-X4CD_DoxZHH",
        "colab_type": "code",
        "colab": {
          "base_uri": "https://localhost:8080/",
          "height": 918
        },
        "outputId": "92311b5a-e148-4a78-ade1-bf7ccce81fb3"
      },
      "source": [
        "m2_loss=trainNet(model_2,0.001)"
      ],
      "execution_count": 15,
      "outputs": [
        {
          "output_type": "stream",
          "text": [
            "\n",
            "Epoch : 1\tTraining Loss : 0.17067575342150423\tValidation Loss : 0.07380096489679999\n",
            "Validation loss decreased from : inf ----> 0.07380096489679999 ----> Saving Model.......\n",
            "\n",
            "Epoch : 2\tTraining Loss : 0.06016434933568386\tValidation Loss : 0.056256127632277636\n",
            "Validation loss decreased from : 0.07380096489679999 ----> 0.056256127632277636 ----> Saving Model.......\n",
            "\n",
            "Epoch : 3\tTraining Loss : 0.04289389896486455\tValidation Loss : 0.03952241308797966\n",
            "Validation loss decreased from : 0.056256127632277636 ----> 0.03952241308797966 ----> Saving Model.......\n",
            "\n",
            "Epoch : 4\tTraining Loss : 0.033716550319948815\tValidation Loss : 0.036523041940170815\n",
            "Validation loss decreased from : 0.03952241308797966 ----> 0.036523041940170815 ----> Saving Model.......\n",
            "\n",
            "Epoch : 5\tTraining Loss : 0.027053823510296268\tValidation Loss : 0.04760603731693209\n",
            "\n",
            "Epoch : 6\tTraining Loss : 0.02095630887865114\tValidation Loss : 0.04317293880223138\n",
            "Validation loss decreased from : 0.04760603731693209 ----> 0.04317293880223138 ----> Saving Model.......\n",
            "\n",
            "Epoch : 7\tTraining Loss : 0.020507803223410413\tValidation Loss : 0.037269772860777796\n",
            "Validation loss decreased from : 0.04317293880223138 ----> 0.037269772860777796 ----> Saving Model.......\n",
            "\n",
            "Epoch : 8\tTraining Loss : 0.017218128505161488\tValidation Loss : 0.06259447048779058\n",
            "\n",
            "Epoch : 9\tTraining Loss : 0.01621556945946172\tValidation Loss : 0.04858343566458203\n",
            "Validation loss decreased from : 0.06259447048779058 ----> 0.04858343566458203 ----> Saving Model.......\n",
            "\n",
            "Epoch : 10\tTraining Loss : 0.014355469534677609\tValidation Loss : 0.04778457841114188\n",
            "Validation loss decreased from : 0.04858343566458203 ----> 0.04778457841114188 ----> Saving Model.......\n",
            "\n",
            "Epoch : 11\tTraining Loss : 0.014586137863281277\tValidation Loss : 0.04472750445312552\n",
            "Validation loss decreased from : 0.04778457841114188 ----> 0.04472750445312552 ----> Saving Model.......\n",
            "\n",
            "Epoch : 12\tTraining Loss : 0.012741386846813828\tValidation Loss : 0.06412164205832846\n",
            "\n",
            "Epoch : 13\tTraining Loss : 0.011294351843325284\tValidation Loss : 0.04743464589453046\n",
            "Validation loss decreased from : 0.06412164205832846 ----> 0.04743464589453046 ----> Saving Model.......\n",
            "\n",
            "Epoch : 14\tTraining Loss : 0.012260205085473075\tValidation Loss : 0.06330024014302066\n",
            "\n",
            "Epoch : 15\tTraining Loss : 0.01228622874715008\tValidation Loss : 0.05531173189442403\n",
            "Validation loss decreased from : 0.06330024014302066 ----> 0.05531173189442403 ----> Saving Model.......\n",
            "\n",
            "Epoch : 16\tTraining Loss : 0.007447465339365366\tValidation Loss : 0.06705708797477276\n",
            "\n",
            "Epoch : 17\tTraining Loss : 0.009762229051447297\tValidation Loss : 0.09135616438277876\n",
            "\n",
            "Epoch : 18\tTraining Loss : 0.010961654564806607\tValidation Loss : 0.05432628309967505\n",
            "Validation loss decreased from : 0.09135616438277876 ----> 0.05432628309967505 ----> Saving Model.......\n",
            "\n",
            "Epoch : 19\tTraining Loss : 0.007803924702685444\tValidation Loss : 0.0658334824504675\n",
            "\n",
            "Epoch : 20\tTraining Loss : 0.00721608186309148\tValidation Loss : 0.0628716492530031\n",
            "Validation loss decreased from : 0.0658334824504675 ----> 0.0628716492530031 ----> Saving Model.......\n"
          ],
          "name": "stdout"
        }
      ]
    },
    {
      "cell_type": "code",
      "metadata": {
        "id": "XAen2eRc8998",
        "colab_type": "code",
        "colab": {
          "base_uri": "https://localhost:8080/",
          "height": 697
        },
        "outputId": "2cb0a2d3-271f-4f47-9da9-d4f621f1e002"
      },
      "source": [
        "m2_loss"
      ],
      "execution_count": 16,
      "outputs": [
        {
          "output_type": "execute_result",
          "data": {
            "text/plain": [
              "{'train': [0.17067575342150423,\n",
              "  0.06016434933568386,\n",
              "  0.04289389896486455,\n",
              "  0.033716550319948815,\n",
              "  0.027053823510296268,\n",
              "  0.02095630887865114,\n",
              "  0.020507803223410413,\n",
              "  0.017218128505161488,\n",
              "  0.01621556945946172,\n",
              "  0.014355469534677609,\n",
              "  0.014586137863281277,\n",
              "  0.012741386846813828,\n",
              "  0.011294351843325284,\n",
              "  0.012260205085473075,\n",
              "  0.01228622874715008,\n",
              "  0.007447465339365366,\n",
              "  0.009762229051447297,\n",
              "  0.010961654564806607,\n",
              "  0.007803924702685444,\n",
              "  0.00721608186309148],\n",
              " 'valid': [0.07380096489679999,\n",
              "  0.056256127632277636,\n",
              "  0.03952241308797966,\n",
              "  0.036523041940170815,\n",
              "  0.04760603731693209,\n",
              "  0.04317293880223138,\n",
              "  0.037269772860777796,\n",
              "  0.06259447048779058,\n",
              "  0.04858343566458203,\n",
              "  0.04778457841114188,\n",
              "  0.04472750445312552,\n",
              "  0.06412164205832846,\n",
              "  0.04743464589453046,\n",
              "  0.06330024014302066,\n",
              "  0.05531173189442403,\n",
              "  0.06705708797477276,\n",
              "  0.09135616438277876,\n",
              "  0.05432628309967505,\n",
              "  0.0658334824504675,\n",
              "  0.0628716492530031]}"
            ]
          },
          "metadata": {
            "tags": []
          },
          "execution_count": 16
        }
      ]
    },
    {
      "cell_type": "markdown",
      "metadata": {
        "id": "IE0r8VDjaSwh",
        "colab_type": "text"
      },
      "source": [
        "## Loading model from Lowest Validation Loss"
      ]
    },
    {
      "cell_type": "code",
      "metadata": {
        "id": "lsM_EUkk2xt3",
        "colab_type": "code",
        "colab": {
          "base_uri": "https://localhost:8080/",
          "height": 34
        },
        "outputId": "72c5fbbe-ba6b-4a9b-c406-db3e280a89fd"
      },
      "source": [
        "# Loading the model from the lowest validation loss \n",
        "model_1.load_state_dict(torch.load('FNet_model.pth'))\n",
        "model_2.load_state_dict(torch.load('convNet_model.pth'))\n"
      ],
      "execution_count": 17,
      "outputs": [
        {
          "output_type": "execute_result",
          "data": {
            "text/plain": [
              "<All keys matched successfully>"
            ]
          },
          "metadata": {
            "tags": []
          },
          "execution_count": 17
        }
      ]
    },
    {
      "cell_type": "code",
      "metadata": {
        "id": "1T5HFEp4-DTo",
        "colab_type": "code",
        "colab": {
          "base_uri": "https://localhost:8080/",
          "height": 323
        },
        "outputId": "e9537801-0ae7-4bf9-ef25-6ed99ec23fab"
      },
      "source": [
        "print(model_1.state_dict,'\\n\\n\\n\\n',model_2.state_dict)"
      ],
      "execution_count": 18,
      "outputs": [
        {
          "output_type": "stream",
          "text": [
            "<bound method Module.state_dict of FNet(\n",
            "  (fc1): Linear(in_features=784, out_features=512, bias=True)\n",
            "  (fc2): Linear(in_features=512, out_features=256, bias=True)\n",
            "  (out): Linear(in_features=256, out_features=10, bias=True)\n",
            "  (dropout): Dropout(p=0.2, inplace=False)\n",
            ")> \n",
            "\n",
            "\n",
            "\n",
            " <bound method Module.state_dict of convNet(\n",
            "  (conv1): Conv2d(1, 16, kernel_size=(3, 3), stride=(1, 1), padding=(1, 1))\n",
            "  (conv2): Conv2d(16, 32, kernel_size=(3, 3), stride=(1, 1), padding=(1, 1))\n",
            "  (pool): MaxPool2d(kernel_size=2, stride=2, padding=0, dilation=1, ceil_mode=False)\n",
            "  (fc1): Linear(in_features=1568, out_features=512, bias=True)\n",
            "  (fc2): Linear(in_features=512, out_features=256, bias=True)\n",
            "  (out): Linear(in_features=256, out_features=10, bias=True)\n",
            "  (dropout): Dropout(p=0.2, inplace=False)\n",
            ")>\n"
          ],
          "name": "stdout"
        }
      ]
    },
    {
      "cell_type": "markdown",
      "metadata": {
        "id": "581oexFxaWjE",
        "colab_type": "text"
      },
      "source": [
        "## Plotting Training and Validation Losses"
      ]
    },
    {
      "cell_type": "code",
      "metadata": {
        "id": "shy0MlY_a-mr",
        "colab_type": "code",
        "colab": {
          "base_uri": "https://localhost:8080/",
          "height": 336
        },
        "outputId": "ae84fbfd-300c-4c1d-af17-082fa34993bd"
      },
      "source": [
        "title=['FCNN','CNN']\n",
        "model_losses=[m1_loss,m2_loss]\n",
        "fig=plt.figure(1,figsize=(10,5))\n",
        "idx=1\n",
        "for i in model_losses:\n",
        "  ax=fig.add_subplot(1,2,idx)\n",
        "  ax.plot(i['train'],label=\"Training Loss\")\n",
        "  ax.plot(i['valid'],label=\"Validation Loss\")\n",
        "  ax.set_title('MNIST-Digits : '+title[idx-1])\n",
        "  idx+=1\n",
        "  plt.legend();"
      ],
      "execution_count": 19,
      "outputs": [
        {
          "output_type": "display_data",
          "data": {
            "image/png": "[encoded data removed]",
            "text/plain": [
              "<Figure size 720x360 with 2 Axes>"
            ]
          },
          "metadata": {
            "tags": [],
            "needs_background": "light"
          }
        }
      ]
    },
    {
      "cell_type": "markdown",
      "metadata": {
        "id": "hxKM2mHCaZsF",
        "colab_type": "text"
      },
      "source": [
        "## Testing Phase"
      ]
    },
    {
      "cell_type": "code",
      "metadata": {
        "id": "jbvikEyPisP9",
        "colab_type": "code",
        "colab": {}
      },
      "source": [
        "def test(model):\n",
        "    correct=0\n",
        "    test_loss=0\n",
        "    class_correct = list(0. for i in range(10))\n",
        "    class_total = list(0. for i in range(10))\n",
        "\n",
        "    model.eval() # test the model with dropout layers off\n",
        "    for images,labels in test_loader:\n",
        "        if use_cuda and torch.cuda.is_available():\n",
        "            images,labels=images.cuda(),labels.cuda()\n",
        "        output=model(images)\n",
        "        loss=criterion(output,labels)\n",
        "        test_loss+=loss.item()\n",
        "        _,pred=torch.max(output,1)\n",
        "        correct = np.squeeze(pred.eq(labels.data.view_as(pred)))\n",
        "\n",
        "        for i in range(batch_size):\n",
        "            label = labels.data[i]\n",
        "            class_correct[label] += correct[i].item()\n",
        "            class_total[label] += 1\n",
        "\n",
        "\n",
        "    test_loss=test_loss/len(train_loader)\n",
        "    print(f'For {type(model).__name__} :')\n",
        "    print(f\"Test Loss: {test_loss}\")\n",
        "    print(f\"Correctly predicted per class : {class_correct}, Total correctly perdicted : {sum(class_correct)}\")\n",
        "    print(f\"Total Predictions per class : {class_total}, Total predictions to be made : {sum(class_total)}\\n\")\n",
        "    for i in range(10):\n",
        "      if class_total[i] > 0:\n",
        "          print(f\"Test Accuracy of class {i} : {float(100 * class_correct[i] / class_total[i])}% where {int(np.sum(class_correct[i]))} of {int(np.sum(class_total[i]))} were predicted correctly\")\n",
        "      else:\n",
        "          print('Test Accuracy of %5s: N/A (no training examples)' % (classes[i]))\n",
        "\n",
        "    print(f\"\\nOverall Test Accuracy : {float(100. * np.sum(class_correct) / np.sum(class_total))}% where {int(np.sum(class_correct))} of {int(np.sum(class_total))} were predicted correctly\")\n",
        "    # obtain one batch of test images\n",
        "    dataiter = iter(test_loader)\n",
        "    images, labels = dataiter.next()\n",
        "\n",
        "    # get sample outputs\n",
        "    if use_cuda and torch.cuda.is_available():\n",
        "      images,labels=images.cuda(),labels.cuda()\n",
        "    output = model(images)\n",
        "    # convert output probabilities to predicted class\n",
        "    _, preds = torch.max(output, 1)\n",
        "    # prep images for display\n",
        "    images = images.cpu().numpy()\n",
        "\n",
        "    # plot the images in the batch, along with predicted and true labels\n",
        "    fig = plt.figure(figsize=(25, 4))\n",
        "    for idx in np.arange(20):\n",
        "        ax = fig.add_subplot(2, 20/2, idx+1, xticks=[], yticks=[])\n",
        "        ax.imshow(np.squeeze(images[idx]))\n",
        "        ax.set_title(\"{} ({})\".format(str(preds[idx].item()), str(labels[idx].item())),\n",
        "                    color=(\"blue\" if preds[idx]==labels[idx] else \"red\"))"
      ],
      "execution_count": 20,
      "outputs": []
    },
    {
      "cell_type": "markdown",
      "metadata": {
        "id": "CrIpELozacak",
        "colab_type": "text"
      },
      "source": [
        "## Visualizing a Test batch with results"
      ]
    },
    {
      "cell_type": "markdown",
      "metadata": {
        "id": "0iEve7adafei",
        "colab_type": "text"
      },
      "source": [
        "### FCNN"
      ]
    },
    {
      "cell_type": "code",
      "metadata": {
        "id": "26sGXUIu-sbd",
        "colab_type": "code",
        "colab": {
          "base_uri": "https://localhost:8080/",
          "height": 557
        },
        "outputId": "4b36556c-0e0b-4e7f-d8d7-a6dfddd398a1"
      },
      "source": [
        "test(model_1)"
      ],
      "execution_count": 21,
      "outputs": [
        {
          "output_type": "stream",
          "text": [
            "For FNet :\n",
            "Test Loss: 0.01826852568133323\n",
            "Correctly predicted per class : [970.0, 1128.0, 1019.0, 998.0, 947.0, 865.0, 938.0, 1005.0, 949.0, 994.0], Total correctly perdicted : 9813.0\n",
            "Total Predictions per class : [980.0, 1135.0, 1032.0, 1010.0, 982.0, 892.0, 958.0, 1028.0, 974.0, 1009.0], Total predictions to be made : 10000.0\n",
            "\n",
            "Test Accuracy of class 0 : 98.9795918367347% where 970 of 980 were predicted correctly\n",
            "Test Accuracy of class 1 : 99.38325991189427% where 1128 of 1135 were predicted correctly\n",
            "Test Accuracy of class 2 : 98.74031007751938% where 1019 of 1032 were predicted correctly\n",
            "Test Accuracy of class 3 : 98.81188118811882% where 998 of 1010 were predicted correctly\n",
            "Test Accuracy of class 4 : 96.43584521384929% where 947 of 982 were predicted correctly\n",
            "Test Accuracy of class 5 : 96.97309417040358% where 865 of 892 were predicted correctly\n",
            "Test Accuracy of class 6 : 97.91231732776617% where 938 of 958 were predicted correctly\n",
            "Test Accuracy of class 7 : 97.76264591439688% where 1005 of 1028 were predicted correctly\n",
            "Test Accuracy of class 8 : 97.43326488706366% where 949 of 974 were predicted correctly\n",
            "Test Accuracy of class 9 : 98.51337958374629% where 994 of 1009 were predicted correctly\n",
            "\n",
            "Overall Test Accuracy : 98.13% where 9813 of 10000 were predicted correctly\n"
          ],
          "name": "stdout"
        },
        {
          "output_type": "display_data",
          "data": {
            "image/png": "[encoded data removed]",
            "text/plain": [
              "<Figure size 1800x288 with 20 Axes>"
            ]
          },
          "metadata": {
            "tags": []
          }
        }
      ]
    },
    {
      "cell_type": "markdown",
      "metadata": {
        "id": "OAsdDrz2ah5F",
        "colab_type": "text"
      },
      "source": [
        "### CNN"
      ]
    },
    {
      "cell_type": "code",
      "metadata": {
        "id": "8oXKw8d96CfJ",
        "colab_type": "code",
        "colab": {
          "base_uri": "https://localhost:8080/",
          "height": 557
        },
        "outputId": "efacddd9-35b6-4676-d0c4-69942e7fbcc0"
      },
      "source": [
        "test(model_2)"
      ],
      "execution_count": 22,
      "outputs": [
        {
          "output_type": "stream",
          "text": [
            "For convNet :\n",
            "Test Loss: 0.010896420856374966\n",
            "Correctly predicted per class : [977.0, 1132.0, 1028.0, 1006.0, 966.0, 886.0, 949.0, 1016.0, 969.0, 984.0], Total correctly perdicted : 9913.0\n",
            "Total Predictions per class : [980.0, 1135.0, 1032.0, 1010.0, 982.0, 892.0, 958.0, 1028.0, 974.0, 1009.0], Total predictions to be made : 10000.0\n",
            "\n",
            "Test Accuracy of class 0 : 99.6938775510204% where 977 of 980 were predicted correctly\n",
            "Test Accuracy of class 1 : 99.73568281938326% where 1132 of 1135 were predicted correctly\n",
            "Test Accuracy of class 2 : 99.6124031007752% where 1028 of 1032 were predicted correctly\n",
            "Test Accuracy of class 3 : 99.60396039603961% where 1006 of 1010 were predicted correctly\n",
            "Test Accuracy of class 4 : 98.37067209775968% where 966 of 982 were predicted correctly\n",
            "Test Accuracy of class 5 : 99.32735426008969% where 886 of 892 were predicted correctly\n",
            "Test Accuracy of class 6 : 99.06054279749478% where 949 of 958 were predicted correctly\n",
            "Test Accuracy of class 7 : 98.83268482490273% where 1016 of 1028 were predicted correctly\n",
            "Test Accuracy of class 8 : 99.48665297741273% where 969 of 974 were predicted correctly\n",
            "Test Accuracy of class 9 : 97.52229930624381% where 984 of 1009 were predicted correctly\n",
            "\n",
            "Overall Test Accuracy : 99.13% where 9913 of 10000 were predicted correctly\n"
          ],
          "name": "stdout"
        },
        {
          "output_type": "display_data",
          "data": {
            "image/png": "[encoded data removed]",
            "text/plain": [
              "<Figure size 1800x288 with 20 Axes>"
            ]
          },
          "metadata": {
            "tags": []
          }
        }
      ]
    },
    {
      "cell_type": "code",
      "metadata": {
        "id": "9hclOo1JfUeY",
        "colab_type": "code",
        "colab": {}
      },
      "source": [
        ""
      ],
      "execution_count": 22,
      "outputs": []
    }
  ]
}